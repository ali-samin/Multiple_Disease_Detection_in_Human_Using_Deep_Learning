{
 "cells": [
  {
   "cell_type": "code",
   "execution_count": 1,
   "id": "57008e5e-076b-4982-8846-55d24a3b0294",
   "metadata": {},
   "outputs": [],
   "source": [
    "import numpy as np\n",
    "import pandas as pd\n",
    "import keras\n",
    "from keras.models import Sequential\n",
    "from keras.layers import Conv2D, Flatten, Dense, MaxPooling2D, Dropout\n",
    "from keras.applications import InceptionV3\n",
    "from keras.optimizers import Adam\n",
    "from sklearn.metrics import accuracy_score\n",
    "import ipywidgets as widgets\n",
    "import io\n",
    "from PIL import Image\n",
    "import tqdm\n",
    "from sklearn.model_selection import train_test_split\n",
    "import cv2\n",
    "from sklearn.utils import shuffle\n",
    "import tensorflow as tf\n",
    "import os\n"
   ]
  },
  {
   "cell_type": "code",
   "execution_count": 2,
   "id": "5379f90f-2d9f-4ff7-ba9f-c4545f3db8ed",
   "metadata": {},
   "outputs": [],
   "source": [
    "\n",
    "# Load data\n",
    "X_train = []\n",
    "Y_train = []\n",
    "image_size = 150\n",
    "labels = ['glioma_tumor','meningioma_tumor','no_tumor','pituitary_tumor']\n"
   ]
  },
  {
   "cell_type": "code",
   "execution_count": 3,
   "id": "8a261c5e-e5ba-456c-8a39-5ba2abfb8eb7",
   "metadata": {},
   "outputs": [],
   "source": [
    "\n",
    "for i in labels:\n",
    "    folderPath = os.path.join('./Training', i)\n",
    "    for j in os.listdir(folderPath):\n",
    "        img = cv2.imread(os.path.join(folderPath, j))\n",
    "        img = cv2.resize(img, (image_size, image_size))\n",
    "        X_train.append(img)\n",
    "        Y_train.append(i)\n",
    "\n",
    "for i in labels:\n",
    "    folderPath = os.path.join('./Testing', i)\n",
    "    for j in os.listdir(folderPath):\n",
    "        img = cv2.imread(os.path.join(folderPath, j))\n",
    "        img = cv2.resize(img, (image_size, image_size))\n",
    "        X_train.append(img)\n",
    "        Y_train.append(i)\n"
   ]
  },
  {
   "cell_type": "code",
   "execution_count": 4,
   "id": "138d500b-bffd-4851-ae26-cc8f168ade1b",
   "metadata": {},
   "outputs": [],
   "source": [
    "\n",
    "X_train = np.array(X_train)\n",
    "Y_train = np.array(Y_train)\n",
    "X_train, Y_train = shuffle(X_train, Y_train, random_state=101)\n"
   ]
  },
  {
   "cell_type": "code",
   "execution_count": 5,
   "id": "9bfb38bc-ae83-48f5-8dc3-c3480eb471d2",
   "metadata": {},
   "outputs": [],
   "source": [
    "\n",
    "# Split data into train and test sets\n",
    "X_train, X_test, y_train, y_test = train_test_split(X_train, Y_train, test_size=0.1, random_state=101)\n"
   ]
  },
  {
   "cell_type": "code",
   "execution_count": 6,
   "id": "06ca7462-4296-4e6b-b3c5-cf80288ec78d",
   "metadata": {},
   "outputs": [],
   "source": [
    "\n",
    "# Convert labels to categorical\n",
    "y_train = tf.keras.utils.to_categorical([labels.index(i) for i in y_train])\n",
    "y_test = tf.keras.utils.to_categorical([labels.index(i) for i in y_test])\n"
   ]
  },
  {
   "cell_type": "code",
   "execution_count": 7,
   "id": "39fcb9ee-e679-470b-81ae-22833170df54",
   "metadata": {},
   "outputs": [
    {
     "name": "stdout",
     "output_type": "stream",
     "text": [
      "Downloading data from https://storage.googleapis.com/tensorflow/keras-applications/inception_v3/inception_v3_weights_tf_dim_ordering_tf_kernels_notop.h5\n",
      "87910968/87910968 [==============================] - 24s 0us/step\n"
     ]
    }
   ],
   "source": [
    "\n",
    "# Load pre-trained InceptionV3 model without top (fully connected) layers\n",
    "inception_base = InceptionV3(weights='imagenet', include_top=False, input_shape=(image_size, image_size, 3))\n",
    "\n",
    "\n"
   ]
  },
  {
   "cell_type": "code",
   "execution_count": 8,
   "id": "2db09ef4-2bc8-4348-9701-d97714bc6f21",
   "metadata": {},
   "outputs": [],
   "source": [
    "# Freeze the convolutional base\n",
    "for layer in inception_base.layers:\n",
    "    layer.trainable = False\n",
    "\n"
   ]
  },
  {
   "cell_type": "code",
   "execution_count": 9,
   "id": "b36efdf7-4089-495e-84ef-71eb6ddee802",
   "metadata": {},
   "outputs": [],
   "source": [
    "# Add custom top layers for classification\n",
    "model = Sequential([\n",
    "    inception_base,\n",
    "    Flatten(),\n",
    "    Dense(512, activation='relu'),\n",
    "    Dropout(0.3),\n",
    "    Dense(512, activation='relu'),\n",
    "    Dropout(0.3),\n",
    "    Dense(4, activation='softmax')\n",
    "])\n"
   ]
  },
  {
   "cell_type": "code",
   "execution_count": 10,
   "id": "2d127192-7d97-45c6-a5f8-0f5ab4d6f57a",
   "metadata": {},
   "outputs": [
    {
     "name": "stdout",
     "output_type": "stream",
     "text": [
      "Model: \"sequential\"\n",
      "_________________________________________________________________\n",
      " Layer (type)                Output Shape              Param #   \n",
      "=================================================================\n",
      " inception_v3 (Functional)   (None, 3, 3, 2048)        21802784  \n",
      "                                                                 \n",
      " flatten (Flatten)           (None, 18432)             0         \n",
      "                                                                 \n",
      " dense (Dense)               (None, 512)               9437696   \n",
      "                                                                 \n",
      " dropout (Dropout)           (None, 512)               0         \n",
      "                                                                 \n",
      " dense_1 (Dense)             (None, 512)               262656    \n",
      "                                                                 \n",
      " dropout_1 (Dropout)         (None, 512)               0         \n",
      "                                                                 \n",
      " dense_2 (Dense)             (None, 4)                 2052      \n",
      "                                                                 \n",
      "=================================================================\n",
      "Total params: 31,505,188\n",
      "Trainable params: 9,702,404\n",
      "Non-trainable params: 21,802,784\n",
      "_________________________________________________________________\n"
     ]
    }
   ],
   "source": [
    "\n",
    "model.summary()\n",
    "\n"
   ]
  },
  {
   "cell_type": "code",
   "execution_count": 11,
   "id": "0bac4317-cb1a-478e-9cac-609f1dc9f1f9",
   "metadata": {},
   "outputs": [
    {
     "name": "stderr",
     "output_type": "stream",
     "text": [
      "C:\\Anaconda\\envs\\myenv\\lib\\site-packages\\keras\\optimizers\\optimizer_v2\\adam.py:114: UserWarning: The `lr` argument is deprecated, use `learning_rate` instead.\n",
      "  super().__init__(name, **kwargs)\n"
     ]
    }
   ],
   "source": [
    "# Compile the model\n",
    "model.compile(loss='categorical_crossentropy', optimizer=Adam(lr=0.0001), metrics=['accuracy'])\n"
   ]
  },
  {
   "cell_type": "code",
   "execution_count": 12,
   "id": "5b73e361-d2b7-49a9-90ec-51965a5808d0",
   "metadata": {},
   "outputs": [
    {
     "name": "stdout",
     "output_type": "stream",
     "text": [
      "Epoch 1/20\n",
      "75/75 [==============================] - 21s 100ms/step - loss: 11.3954 - accuracy: 0.4388 - val_loss: 1.9509 - val_accuracy: 0.5977\n",
      "Epoch 2/20\n",
      "75/75 [==============================] - 4s 60ms/step - loss: 2.0004 - accuracy: 0.5084 - val_loss: 0.9714 - val_accuracy: 0.6241\n",
      "Epoch 3/20\n",
      "75/75 [==============================] - 4s 60ms/step - loss: 1.1167 - accuracy: 0.5369 - val_loss: 1.0326 - val_accuracy: 0.6278\n",
      "Epoch 4/20\n",
      "75/75 [==============================] - 5s 60ms/step - loss: 1.0901 - accuracy: 0.5490 - val_loss: 1.0031 - val_accuracy: 0.5902\n",
      "Epoch 5/20\n",
      "75/75 [==============================] - 5s 60ms/step - loss: 1.0118 - accuracy: 0.5897 - val_loss: 0.9240 - val_accuracy: 0.6617\n",
      "Epoch 6/20\n",
      "75/75 [==============================] - 4s 59ms/step - loss: 0.9592 - accuracy: 0.5872 - val_loss: 0.8550 - val_accuracy: 0.6541\n",
      "Epoch 7/20\n",
      "75/75 [==============================] - 4s 60ms/step - loss: 0.9545 - accuracy: 0.5935 - val_loss: 0.8461 - val_accuracy: 0.6541\n",
      "Epoch 8/20\n",
      "75/75 [==============================] - 4s 60ms/step - loss: 0.9279 - accuracy: 0.6060 - val_loss: 0.9922 - val_accuracy: 0.5940\n",
      "Epoch 9/20\n",
      "75/75 [==============================] - 4s 60ms/step - loss: 0.9129 - accuracy: 0.6115 - val_loss: 0.7994 - val_accuracy: 0.6880\n",
      "Epoch 10/20\n",
      "75/75 [==============================] - 4s 60ms/step - loss: 0.8558 - accuracy: 0.6165 - val_loss: 0.9964 - val_accuracy: 0.5865\n",
      "Epoch 11/20\n",
      "75/75 [==============================] - 5s 60ms/step - loss: 0.8922 - accuracy: 0.5956 - val_loss: 0.9049 - val_accuracy: 0.5977\n",
      "Epoch 12/20\n",
      "75/75 [==============================] - 5s 60ms/step - loss: 0.8828 - accuracy: 0.5951 - val_loss: 0.9182 - val_accuracy: 0.6316\n",
      "Epoch 13/20\n",
      "75/75 [==============================] - 5s 61ms/step - loss: 0.8868 - accuracy: 0.6085 - val_loss: 0.9703 - val_accuracy: 0.5865\n",
      "Epoch 14/20\n",
      "75/75 [==============================] - 4s 59ms/step - loss: 0.9132 - accuracy: 0.6039 - val_loss: 0.7987 - val_accuracy: 0.7293\n",
      "Epoch 15/20\n",
      "75/75 [==============================] - 4s 60ms/step - loss: 0.8155 - accuracy: 0.6438 - val_loss: 0.8377 - val_accuracy: 0.7105\n",
      "Epoch 16/20\n",
      "75/75 [==============================] - 4s 59ms/step - loss: 0.8929 - accuracy: 0.6341 - val_loss: 0.9627 - val_accuracy: 0.6165\n",
      "Epoch 17/20\n",
      "75/75 [==============================] - 4s 60ms/step - loss: 0.8520 - accuracy: 0.6463 - val_loss: 0.8159 - val_accuracy: 0.7143\n",
      "Epoch 18/20\n",
      "75/75 [==============================] - 4s 60ms/step - loss: 0.8516 - accuracy: 0.6354 - val_loss: 0.8641 - val_accuracy: 0.6805\n",
      "Epoch 19/20\n",
      "75/75 [==============================] - 4s 60ms/step - loss: 0.8254 - accuracy: 0.6467 - val_loss: 0.9042 - val_accuracy: 0.6504\n",
      "Epoch 20/20\n",
      "75/75 [==============================] - 4s 60ms/step - loss: 0.8364 - accuracy: 0.6358 - val_loss: 0.9546 - val_accuracy: 0.6353\n"
     ]
    }
   ],
   "source": [
    "# Train the model\n",
    "history = model.fit(X_train, y_train, epochs=20, batch_size=32, validation_split=0.1)\n"
   ]
  },
  {
   "cell_type": "code",
   "execution_count": 13,
   "id": "974fe031-4d9c-4472-95ec-1a238efb2de4",
   "metadata": {},
   "outputs": [
    {
     "name": "stdout",
     "output_type": "stream",
     "text": [
      "10/10 [==============================] - 2s 197ms/step - loss: 0.9259 - accuracy: 0.6475\n",
      "Test Accuracy: 0.6474575996398926\n"
     ]
    }
   ],
   "source": [
    "\n",
    "# Evaluate the model on test data\n",
    "test_loss, test_accuracy = model.evaluate(X_test, y_test)\n",
    "print(\"Test Accuracy:\", test_accuracy)\n"
   ]
  },
  {
   "cell_type": "code",
   "execution_count": null,
   "id": "44034c38-c326-48e4-a8fb-2b064f43880f",
   "metadata": {},
   "outputs": [],
   "source": []
  }
 ],
 "metadata": {
  "kernelspec": {
   "display_name": "Python 3 (ipykernel)",
   "language": "python",
   "name": "python3"
  },
  "language_info": {
   "codemirror_mode": {
    "name": "ipython",
    "version": 3
   },
   "file_extension": ".py",
   "mimetype": "text/x-python",
   "name": "python",
   "nbconvert_exporter": "python",
   "pygments_lexer": "ipython3",
   "version": "3.10.13"
  }
 },
 "nbformat": 4,
 "nbformat_minor": 5
}
